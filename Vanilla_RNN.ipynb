{
  "nbformat": 4,
  "nbformat_minor": 0,
  "metadata": {
    "colab": {
      "provenance": [],
      "collapsed_sections": []
    },
    "kernelspec": {
      "name": "python3",
      "display_name": "Python 3"
    },
    "language_info": {
      "name": "python"
    }
  },
  "cells": [
    {
      "cell_type": "markdown",
      "source": [
        "Vanilla RNN (using Tensorflow)\n",
        "--------------"
      ],
      "metadata": {
        "id": "Aohytr29VXBA"
      }
    },
    {
      "cell_type": "code",
      "source": [
        "import pandas as pd\n",
        "\n",
        "df = pd.read_csv('/content/drive/MyDrive/airquality_aam_aca/data/kolkata.csv', parse_dates=True)\n",
        "df.set_index('date')\n",
        "print(df.head())"
      ],
      "metadata": {
        "id": "S8ytJ_WFHiry"
      },
      "execution_count": null,
      "outputs": []
    },
    {
      "cell_type": "code",
      "source": [
        "from utility import sequence_to_table\n",
        "from numpy import mean\n",
        "\n",
        "# Time series conversion and transformation\n",
        "seq_mean = mean(df.PM25.values)\n",
        "sequence = df.PM25.values - seq_mean\n",
        "data = sequence_to_table(sequence, look_back=30)\n",
        "\n",
        "# divide data into feature and target\n",
        "X = data.drop(columns=['next']).values\n",
        "y = data.next.values\n",
        "\n",
        "# first reshape the data\n",
        "X_reshaped = X.reshape((X.shape[0], 1, X.shape[1]))"
      ],
      "metadata": {
        "id": "1-qDfhRNcTv5"
      },
      "execution_count": null,
      "outputs": []
    },
    {
      "cell_type": "markdown",
      "source": [
        "Vanilla RNN\n",
        "----------"
      ],
      "metadata": {
        "id": "WvqC4ByPca82"
      }
    },
    {
      "cell_type": "code",
      "source": [
        "# Vanilla RNN model\n",
        "\n",
        "import tensorflow as tf\n",
        "from keras.models import Sequential\n",
        "tf.random.set_seed(42)\n",
        "\n",
        "model = Sequential(name=\"Vanilla_RNN\")\n",
        "model.add(tf.keras.layers.SimpleRNN(units=64, \n",
        "                              activation='relu', \n",
        "                              input_shape=(1, X_reshaped.shape[2])))\n",
        "model.add(tf.keras.layers.Dense(1))\n",
        "\n",
        "model.compile(loss='mse', optimizer='adam')\n",
        "model.summary()"
      ],
      "metadata": {
        "id": "TuRLc2dUe3YL"
      },
      "execution_count": null,
      "outputs": []
    },
    {
      "cell_type": "code",
      "source": [
        "history = model.fit(X_reshaped, y, epochs=100, batch_size=32)"
      ],
      "metadata": {
        "id": "7nmsxh3Mcko4"
      },
      "execution_count": null,
      "outputs": []
    },
    {
      "cell_type": "code",
      "source": [
        "# Plot the loss\n",
        "import matplotlib.pyplot as plt\n",
        "\n",
        "plt.figure(figsize=(5, 3)).set_dpi(128)\n",
        "plt.plot(history.history['loss'], label='Loss')\n",
        "plt.xlabel('Number of Epochs')\n",
        "plt.ylabel('Mean Squared Error (MSE)')\n",
        "plt.legend()\n",
        "plt.show()"
      ],
      "metadata": {
        "id": "ZatJMUHLlcwl"
      },
      "execution_count": null,
      "outputs": []
    },
    {
      "cell_type": "code",
      "source": [
        "# Model evaluation\n",
        "from sklearn.metrics import mean_squared_error, r2_score\n",
        "from math import sqrt\n",
        "\n",
        "forecast = model.predict(X_reshaped)\n",
        "rmse = round(sqrt(mean_squared_error(y, forecast)), 2)\n",
        "r2 = round(r2_score(y, forecast), 2)\n",
        "\n",
        "print('RMSE:', rmse)\n",
        "print('R2 score:', r2)"
      ],
      "metadata": {
        "id": "etE-cpK4dDtt"
      },
      "execution_count": null,
      "outputs": []
    },
    {
      "cell_type": "code",
      "source": [
        "plt.figure(figsize=(18, 6)).set_dpi(128)\n",
        "plt.plot(y[-1000:], label='Actual series')\n",
        "plt.plot(forecast[-1000:], label='Fitted series')\n",
        "plt.legend()\n",
        "plt.xlabel('Days')\n",
        "plt.ylabel('PM2.5 Concentration Level')\n",
        "plt.show()"
      ],
      "metadata": {
        "id": "k7yqKpf46ymd"
      },
      "execution_count": null,
      "outputs": []
    },
    {
      "cell_type": "code",
      "source": [
        "import numpy as np\n",
        "\n",
        "predictions = []\n",
        "input = X_reshaped[-1]\n",
        "\n",
        "for i in range(60):\n",
        "  input = input.reshape(1, 1, 30)\n",
        "  predict = model.predict(input)\n",
        "  input = input.ravel()\n",
        "  predictions.append(round(predict[0][0] + seq_mean, 2))\n",
        "  input = np.delete(input, 0)\n",
        "  input = np.append(input, predict[0][0])"
      ],
      "metadata": {
        "id": "BLvWXwEPdNtP"
      },
      "execution_count": null,
      "outputs": []
    },
    {
      "cell_type": "code",
      "source": [
        "for i in predictions:\n",
        "  print(i)"
      ],
      "metadata": {
        "id": "U_ORwndmdbwH"
      },
      "execution_count": null,
      "outputs": []
    }
  ]
}